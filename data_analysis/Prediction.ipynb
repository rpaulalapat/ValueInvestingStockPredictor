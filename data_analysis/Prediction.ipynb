{
 "cells": [
  {
   "cell_type": "code",
   "execution_count": 1,
   "metadata": {},
   "outputs": [],
   "source": [
    "import pandas as pd\n",
    "import numpy\n",
    "import pickle"
   ]
  },
  {
   "cell_type": "code",
   "execution_count": 2,
   "metadata": {},
   "outputs": [],
   "source": [
    "# Load random forest model\n",
    "\n",
    "pkl_filename = \"RFmodel_3yr.pkl\" \n",
    "with open(pkl_filename, 'rb') as file:  \n",
    "    rf_model = pickle.load(file)\n",
    "    "
   ]
  },
  {
   "cell_type": "code",
   "execution_count": 3,
   "metadata": {},
   "outputs": [
    {
     "data": {
      "text/plain": [
       "Index(['Company Name', 'Ticker', 'Cash Flow ', 'Net Margin', 'Book Value',\n",
       "       'Long Term Debt ', 'Current Liabilities ', 'Current Assets ',\n",
       "       'Current Ratio', 'Debt/Equity Ratio', 'Last Qtr EPS',\n",
       "       '12 Mo Trailing EPS', 'EBITDA ', 'EBIT ', 'Annual Sales', 'Dividend ',\n",
       "       'Market Value/# Analysts', 'Current ROA (TTM)', 'ROA (5 Yr Avg)',\n",
       "       '52 Week High', 'Market Cap ', 'Div. Yield %', 'PEG Ratio',\n",
       "       'Price/Cash Flow', 'Price/Book', 'Price/Sales',\n",
       "       'P/E (Trailing 12 Months)', 'Shares Outstanding ', 'Current ROE (TTM)',\n",
       "       'Current ROI (TTM)', 'ROI (5 Yr Avg)', 'Operating Margin 12 Mo',\n",
       "       'Avg Volume'],\n",
       "      dtype='object')"
      ]
     },
     "execution_count": 3,
     "metadata": {},
     "output_type": "execute_result"
    }
   ],
   "source": [
    "#load data\n",
    "data_df = pd.read_csv(\"../db/zacks_custom_screen_2018-08-19.csv\")\n",
    "data_df.columns"
   ]
  },
  {
   "cell_type": "code",
   "execution_count": 7,
   "metadata": {},
   "outputs": [
    {
     "name": "stderr",
     "output_type": "stream",
     "text": [
      "C:\\Users\\rpaul\\Anaconda3\\envs\\PythonData\\lib\\site-packages\\ipykernel_launcher.py:5: SettingWithCopyWarning: \n",
      "A value is trying to be set on a copy of a slice from a DataFrame\n",
      "\n",
      "See the caveats in the documentation: http://pandas.pydata.org/pandas-docs/stable/indexing.html#indexing-view-versus-copy\n",
      "  \"\"\"\n"
     ]
    },
    {
     "data": {
      "text/plain": [
       "array([[ 6.7000e-01,  1.8520e+01,  9.9900e+00,  4.4800e+00,  2.4400e+01],\n",
       "       [ 1.5200e+00,  1.0300e+01,  4.4600e+00,  1.1000e+00,  1.0380e+01],\n",
       "       [ 9.0000e-02,  7.3200e+00,  2.2200e+00,  1.7800e+00,  2.2450e+01],\n",
       "       ...,\n",
       "       [-1.0000e-01,  8.6400e+00,  5.9600e+00,  2.1000e+00,  2.4700e+01],\n",
       "       [-2.0000e-02,  1.0000e+00,  6.6000e-01,  1.0000e-01,  1.1430e+01],\n",
       "       [ 7.0000e-02,  2.0515e+02,  1.1067e+02,  1.3750e+01,  1.0400e+01]])"
      ]
     },
     "execution_count": 7,
     "metadata": {},
     "output_type": "execute_result"
    }
   ],
   "source": [
    "#get features data to be used\n",
    "\n",
    "features_columns = ['Last Qtr EPS','Current ROE (TTM)','Current ROA (TTM)', 'Price/Book', 'P/E (Trailing 12 Months)']\n",
    "\n",
    "features_data_df = data_df[features_columns]\n",
    "features_data_df.dropna(inplace=True)\n",
    "data = features_data_df.values\n",
    "data"
   ]
  },
  {
   "cell_type": "code",
   "execution_count": null,
   "metadata": {},
   "outputs": [],
   "source": []
  }
 ],
 "metadata": {
  "kernelspec": {
   "display_name": "Python 3",
   "language": "python",
   "name": "python3"
  },
  "language_info": {
   "codemirror_mode": {
    "name": "ipython",
    "version": 3
   },
   "file_extension": ".py",
   "mimetype": "text/x-python",
   "name": "python",
   "nbconvert_exporter": "python",
   "pygments_lexer": "ipython3",
   "version": "3.6.4"
  }
 },
 "nbformat": 4,
 "nbformat_minor": 2
}
