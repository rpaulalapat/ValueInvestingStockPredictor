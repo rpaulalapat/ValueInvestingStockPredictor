{
 "cells": [
  {
   "cell_type": "code",
   "execution_count": 1,
   "metadata": {},
   "outputs": [],
   "source": [
    "import pandas as pd\n",
    "import numpy as np"
   ]
  },
  {
   "cell_type": "code",
   "execution_count": 2,
   "metadata": {},
   "outputs": [
    {
     "name": "stderr",
     "output_type": "stream",
     "text": [
      "C:\\Users\\rpaul\\Anaconda3\\envs\\PythonData\\lib\\site-packages\\IPython\\core\\interactiveshell.py:2728: DtypeWarning: Columns (0) have mixed types. Specify dtype option on import or set low_memory=False.\n",
      "  interactivity=interactivity, compiler=compiler, result=result)\n"
     ]
    },
    {
     "data": {
      "text/plain": [
       "Index(['name', 'ticker', 'Quarter end', 'Shares', 'Shares split adjusted',\n",
       "       'Split factor', 'Assets', 'Current Assets', 'Liabilities',\n",
       "       'Current Liabilities', 'Shareholders equity',\n",
       "       'Non-controlling interest', 'Preferred equity',\n",
       "       'Goodwill & intangibles', 'Long-term debt', 'Revenue', 'Earnings',\n",
       "       'Earnings available for common stockholders', 'EPS basic',\n",
       "       'EPS diluted', 'Dividend per share', 'Cash from operating activities',\n",
       "       'Cash from investing activities', 'Cash from financing activities',\n",
       "       'Cash change during period', 'Cash at end of period',\n",
       "       'Capital expenditures', 'Price', 'Price high', 'Price low', 'ROE',\n",
       "       'ROA', 'Book value of equity per share', 'P/B ratio', 'P/E ratio',\n",
       "       'Cumulative dividends per share', 'Dividend payout ratio',\n",
       "       'Long-term debt to equity ratio', 'Equity to assets ratio',\n",
       "       'Net margin', 'Asset turnover', 'Free cash flow per share',\n",
       "       'Current ratio', 'mktcap_revenue_value', 'mktcap_free_cash_flow_value',\n",
       "       'mktcap_cash_value', 'cash_oper_gt_earnings_value',\n",
       "       'entvalue_earnings_value', 'marketcap_bookvalue_value',\n",
       "       'quarter_return', 'two_quarter_return', 'one_year_return',\n",
       "       'two_year_return', 'three_year_return', 'four_year_return',\n",
       "       'five_year_return', 'seven_year_return', 'ten_year_return',\n",
       "       'twelve_year_return', 'fifteen_year_return'],\n",
       "      dtype='object')"
      ]
     },
     "execution_count": 2,
     "metadata": {},
     "output_type": "execute_result"
    }
   ],
   "source": [
    "#load data\n",
    "data_df = pd.read_csv(\"../db/stock_data_with_perf_fixed.csv\")\n",
    "data_df.columns"
   ]
  },
  {
   "cell_type": "code",
   "execution_count": 5,
   "metadata": {},
   "outputs": [
    {
     "data": {
      "text/plain": [
       "Index(['name', 'ticker', 'Quarter end', 'EPS basic', 'Price', 'Price high',\n",
       "       'Price low', 'ROE', 'ROA', 'P/B ratio', 'P/E ratio', 'one_year_return',\n",
       "       'two_year_return', 'three_year_return', 'four_year_return',\n",
       "       'five_year_return'],\n",
       "      dtype='object')"
      ]
     },
     "execution_count": 5,
     "metadata": {},
     "output_type": "execute_result"
    }
   ],
   "source": [
    "reduced_df = data_df.iloc[:,[0,1,2,18,27,28,29,30,31,33,34,51,52,53,54,55]]\n",
    "reduced_df.columns"
   ]
  },
  {
   "cell_type": "code",
   "execution_count": 6,
   "metadata": {},
   "outputs": [],
   "source": [
    "reduced_df.to_csv('../db/stock_data_reducedcol.csv')"
   ]
  },
  {
   "cell_type": "code",
   "execution_count": null,
   "metadata": {},
   "outputs": [],
   "source": []
  }
 ],
 "metadata": {
  "kernelspec": {
   "display_name": "Python 3",
   "language": "python",
   "name": "python3"
  },
  "language_info": {
   "codemirror_mode": {
    "name": "ipython",
    "version": 3
   },
   "file_extension": ".py",
   "mimetype": "text/x-python",
   "name": "python",
   "nbconvert_exporter": "python",
   "pygments_lexer": "ipython3",
   "version": "3.6.4"
  }
 },
 "nbformat": 4,
 "nbformat_minor": 2
}
